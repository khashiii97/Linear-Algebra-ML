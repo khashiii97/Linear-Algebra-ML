{
 "cells": [
  {
   "cell_type": "markdown",
   "metadata": {
    "id": "JC54UetgiDTn"
   },
   "source": [
    "# <font color='black'>EE25737: Introduction to Machine Learning</font>\n",
    "## <font color='black'>Fall 99-00, Group 2</font>"
   ]
  },
  {
   "cell_type": "markdown",
   "metadata": {
    "id": "OXRKQ_hCiDT3"
   },
   "source": [
    "### [your name]\n",
    "### [your student ID]"
   ]
  },
  {
   "cell_type": "markdown",
   "metadata": {
    "id": "13OaI4WjiDT5"
   },
   "source": [
    "# C4: Neural Networks"
   ]
  },
  {
   "cell_type": "markdown",
   "metadata": {
    "id": "xY75SxzEiDT6"
   },
   "source": [
    "## Requirements"
   ]
  },
  {
   "cell_type": "markdown",
   "metadata": {
    "id": "TNNixug6iDT7"
   },
   "source": [
    "For installing Pytorch, run the following code: (if you don't use Jupter Notebook, first you should install pip command)"
   ]
  },
  {
   "cell_type": "code",
   "execution_count": null,
   "metadata": {
    "id": "lKuIDgB3iDT8",
    "outputId": "fefbae27-b19d-4b31-bb3d-43c3308d59f4"
   },
   "outputs": [
    {
     "name": "stdout",
     "output_type": "stream",
     "text": [
      "\n",
      "The following command must be run outside of the IPython shell:\n",
      "\n",
      "    $ pip install torch\n",
      "\n",
      "The Python package manager (pip) can only be used from outside of IPython.\n",
      "Please reissue the `pip` command in a separate terminal or command prompt.\n",
      "\n",
      "See the Python documentation for more informations on how to install packages:\n",
      "\n",
      "    https://docs.python.org/3/installing/\n"
     ]
    }
   ],
   "source": [
    "import sys\n",
    "!{sys.executable} -m pip install torch"
   ]
  },
  {
   "cell_type": "markdown",
   "metadata": {
    "id": "5e4PLAJQiDUA"
   },
   "source": [
    "Tensorflow:"
   ]
  },
  {
   "cell_type": "code",
   "execution_count": null,
   "metadata": {
    "id": "I5CEu0cJiDUB"
   },
   "outputs": [],
   "source": [
    "pip install tensorflow"
   ]
  },
  {
   "cell_type": "markdown",
   "metadata": {
    "id": "Be5mVgw1iDUC"
   },
   "source": [
    "For installing Keras, first you should install Tensorflow:"
   ]
  },
  {
   "cell_type": "code",
   "execution_count": null,
   "metadata": {
    "id": "mJc1Sp1niDUD"
   },
   "outputs": [],
   "source": [
    "pip install keras\r\n"
   ]
  },
  {
   "cell_type": "code",
   "execution_count": 2,
   "metadata": {
    "colab": {
     "base_uri": "https://localhost:8080/"
    },
    "id": "SWxvVn0MmUbl",
    "outputId": "6518a2c4-62dd-4e81-b9ee-9abc7d2c3159"
   },
   "outputs": [
    {
     "name": "stdout",
     "output_type": "stream",
     "text": [
      "Mounted at /content/drive\n"
     ]
    }
   ],
   "source": [
    "from google.colab import drive\r\n",
    "drive.mount(\"/content/drive\")"
   ]
  },
  {
   "cell_type": "markdown",
   "metadata": {
    "id": "fDVn3IVJiDUD"
   },
   "source": [
    "## Load data"
   ]
  },
  {
   "cell_type": "code",
   "execution_count": 29,
   "metadata": {
    "id": "tzCZqG4fiDUE"
   },
   "outputs": [],
   "source": [
    "import pandas as pd\n",
    "import numpy as np\n",
    "\n",
    "all_data = []\n",
    "\n",
    "with open('/content/drive/My Drive/ML3/X_train.txt','r') as file:\n",
    "    back_ns = file.read().split('\\n')\n",
    "    for row in back_ns[:-1]:\n",
    "        all_data += [float(number) for number in row.split(' ')]\n",
    "\n",
    "all_data = np.array(all_data).reshape([7767,561])\n",
    "# all_data = list(all_data)\n",
    "with open('/content/drive/My Drive/ML3/y_train.txt','r') as file:\n",
    "    back_ns = file.read().split('\\n')\n",
    "    templist = []\n",
    "    for i,row in enumerate(back_ns[:-1]):\n",
    "        temp = list(all_data[i])\n",
    "        temp.append(int(row)-1)\n",
    "        templist += temp\n",
    "    all_data = np.array(templist).reshape([7767,562])\n",
    "np.random.shuffle(all_data)\n",
    "length = len(all_data)\n",
    "\n",
    "\n",
    "X_test = all_data[0:int(0.1 * length),:-1]\n",
    "X_train = all_data[int(0.1 * length):,:-1]\n",
    "Y_test = all_data[0:int(0.1 * length),-1]\n",
    "Y_train = all_data[int(0.1 * length):,-1]\n",
    "\n",
    "\n",
    "\n",
    "\n",
    "\n",
    "## Code for loading the data"
   ]
  },
  {
   "cell_type": "markdown",
   "metadata": {
    "id": "DoEnbloEiDUF"
   },
   "source": [
    "## C4.1."
   ]
  },
  {
   "cell_type": "code",
   "execution_count": 30,
   "metadata": {
    "id": "DVkXmQKQiDUF",
    "colab": {
     "base_uri": "https://localhost:8080/",
     "height": 654.0
    },
    "outputId": "4552a419-e766-42e7-9177-e15af0963b92"
   },
   "outputs": [
    {
     "name": "stdout",
     "output_type": "stream",
     "text": [
      "neural network for i =  10  done\n",
      "neural network for i =  100  done\n",
      "neural network for i =  200  done\n",
      "neural network for i =  300  done\n",
      "neural network for i =  400  done\n"
     ]
    },
    {
     "data": {
      "image/png": "[encoded data removed]",
      "text/plain": [
       "<Figure size 432x288 with 1 Axes>"
      ]
     },
     "metadata": {
      "tags": [],
      "needs_background": "light"
     },
     "output_type": "display_data"
    },
    {
     "data": {
      "image/png": "[encoded data removed]",
      "text/plain": [
       "<Figure size 432x288 with 1 Axes>"
      ]
     },
     "metadata": {
      "tags": [],
      "needs_background": "light"
     },
     "output_type": "display_data"
    }
   ],
   "source": [
    "## Part 1.\n",
    "from tensorflow.keras import Sequential\n",
    "from tensorflow.keras.layers import Dense\n",
    "import matplotlib.pyplot as plt\n",
    "def create_neural_network_model(n,t,i,X,y,act = 'relu'):\n",
    "    model = Sequential()\n",
    "    model.add(Dense(n, input_shape=(561,),activation = act))\n",
    "    for j in range(t-1):\n",
    "        model.add(Dense(n,activation=act))\n",
    "    model.add(Dense(12,activation='softmax'))\n",
    "    model.compile(optimizer='sgd', loss='sparse_categorical_crossentropy',metrics=['accuracy'])\n",
    "    model.fit(X, y, epochs= i,verbose=0)\n",
    "    # print(model.predict([X[100]]))\n",
    "    # print(y[10])\n",
    "    # print(y[100])\n",
    "    return model\n",
    "\n",
    "def loss_function(predictions,y):\n",
    "  false_counts = 0\n",
    "  for i in range(len(predictions)):\n",
    "      if list(predictions[i]).index(max(predictions[i])) != y[i]:\n",
    "          false_counts += 1\n",
    "  return false_counts/len(y)\n",
    "\n",
    "iterations = [10,100,200,300,400]\n",
    "empirical_losses = []\n",
    "test_losses = []\n",
    "for i in iterations:\n",
    "    model = create_neural_network_model(n = 8,t = 8,i = i,X=X_train,y = Y_train)\n",
    "    empirical_losses.append(loss_function(model.predict(X_train),Y_train))\n",
    "    test_losses.append(loss_function(model.predict(X_test),Y_test))\n",
    "    print(\"neural network for i = \",i,\" done\")\n",
    "\n",
    "plt.plot(iterations,empirical_losses,color = 'r')\n",
    "plt.suptitle('empirical Loss')\n",
    "plt.show()\n",
    "\n",
    "plt.plot(iterations,test_losses,color = 'r')\n",
    "plt.suptitle('true Loss')\n",
    "plt.show()\n",
    "\n",
    "\n",
    "\n",
    "\n"
   ]
  },
  {
   "cell_type": "markdown",
   "metadata": {
    "id": "ZoZ7g5nBN5oy"
   },
   "source": [
    "we observe that our empirical loss minimizes with 300 iterations but our true loss minimizes at i = 200. so it's safe to say with more than 200 iterations we might result in overfitting.\r\n"
   ]
  },
  {
   "cell_type": "markdown",
   "metadata": {
    "id": "FNn7g-CYiDUG"
   },
   "source": [
    "## C4.2."
   ]
  },
  {
   "cell_type": "code",
   "execution_count": 31,
   "metadata": {
    "id": "jNnFJacUiDUH",
    "colab": {
     "base_uri": "https://localhost:8080/",
     "height": 671.0
    },
    "outputId": "4eed4d4d-98e1-4c50-8da5-6e2dd94b847b"
   },
   "outputs": [
    {
     "name": "stdout",
     "output_type": "stream",
     "text": [
      "neural network for n =  1  done\n",
      "neural network for n =  2  done\n",
      "neural network for n =  4  done\n",
      "neural network for n =  8  done\n",
      "neural network for n =  16  done\n",
      "neural network for n =  32  done\n"
     ]
    },
    {
     "data": {
      "image/png": "[encoded data removed]",
      "text/plain": [
       "<Figure size 432x288 with 1 Axes>"
      ]
     },
     "metadata": {
      "tags": [],
      "needs_background": "light"
     },
     "output_type": "display_data"
    },
    {
     "data": {
      "image/png": "[encoded data removed]",
      "text/plain": [
       "<Figure size 432x288 with 1 Axes>"
      ]
     },
     "metadata": {
      "tags": [],
      "needs_background": "light"
     },
     "output_type": "display_data"
    }
   ],
   "source": [
    "## Part 2.\n",
    "ns = [1,2,4,8,16,32]\n",
    "empirical_losses = []\n",
    "test_losses = []\n",
    "for n in ns:\n",
    "    model = create_neural_network_model(n = n,t = 8,i = 100,X=X_train,y = Y_train)\n",
    "    empirical_losses.append(loss_function(model.predict(X_train),Y_train))\n",
    "    test_losses.append(loss_function(model.predict(X_test),Y_test))\n",
    "    print(\"neural network for n = \",n,\" done\")\n",
    "\n",
    "plt.plot(ns,empirical_losses,color = 'r')\n",
    "plt.suptitle('empirical Loss')\n",
    "plt.show()\n",
    "plt.plot(ns,test_losses,color = 'b')\n",
    "plt.suptitle('true Loss')\n",
    "plt.show()\n",
    "\n",
    "\n",
    "\n",
    "\n",
    "\n"
   ]
  },
  {
   "cell_type": "markdown",
   "metadata": {
    "id": "Nbzq7nGMOp2e"
   },
   "source": [
    "we withness that both true loss and empirical loss minmize at n = 32. "
   ]
  },
  {
   "cell_type": "markdown",
   "metadata": {
    "id": "i3i7AYjxiDUH"
   },
   "source": [
    "## C4.3."
   ]
  },
  {
   "cell_type": "code",
   "execution_count": 32,
   "metadata": {
    "id": "v8Zwr21PiDUI",
    "colab": {
     "base_uri": "https://localhost:8080/",
     "height": 654.0
    },
    "outputId": "06a61336-5d11-4b29-afaf-39532180ddfc"
   },
   "outputs": [
    {
     "name": "stdout",
     "output_type": "stream",
     "text": [
      "neural network for t =  1  done\n",
      "neural network for t =  2  done\n",
      "neural network for t =  4  done\n",
      "neural network for t =  8  done\n",
      "neural network for t =  16  done\n"
     ]
    },
    {
     "data": {
      "image/png": "[encoded data removed]",
      "text/plain": [
       "<Figure size 432x288 with 1 Axes>"
      ]
     },
     "metadata": {
      "tags": [],
      "needs_background": "light"
     },
     "output_type": "display_data"
    },
    {
     "data": {
      "image/png": "[encoded data removed]",
      "text/plain": [
       "<Figure size 432x288 with 1 Axes>"
      ]
     },
     "metadata": {
      "tags": [],
      "needs_background": "light"
     },
     "output_type": "display_data"
    }
   ],
   "source": [
    "## Part 3.\n",
    "ts = [1,2,4,8,16]\n",
    "empirical_losses = []\n",
    "test_losses = []\n",
    "for t in ts:\n",
    "    model = create_neural_network_model(n = 8,t = t,i = 100,X=X_train,y = Y_train)\n",
    "    empirical_losses.append(loss_function(model.predict(X_train),Y_train))\n",
    "    test_losses.append(loss_function(model.predict(X_test),Y_test))\n",
    "    print(\"neural network for t = \",t,\" done\")\n",
    "\n",
    "plt.plot(ts,empirical_losses,color = 'r')\n",
    "plt.suptitle('empirical Loss')\n",
    "plt.show()\n",
    "\n",
    "plt.plot(ts,test_losses,color = 'r')\n",
    "plt.suptitle('true Loss')\n",
    "plt.show()\n",
    "\n",
    "\n",
    "\n",
    "\n",
    "\n",
    "\n"
   ]
  },
  {
   "cell_type": "markdown",
   "metadata": {
    "id": "CljfTZsHPBl3"
   },
   "source": [
    "we observe that our empirical loss minimizes with n = 8 but our true loss minimizes at n = 2. in both plots, increasing n will result in a greater error.\r\n",
    "also from the closeness of the figures in all 3 sections we can conclude the the set of neural networks we have created has the uniform convergance property."
   ]
  },
  {
   "cell_type": "markdown",
   "metadata": {
    "id": "-AK6H7AWiDUJ"
   },
   "source": [
    "# C5. Multi-class Classification"
   ]
  },
  {
   "cell_type": "markdown",
   "metadata": {
    "id": "xKgMRNS1iDUK"
   },
   "source": [
    "## Load data"
   ]
  },
  {
   "cell_type": "code",
   "execution_count": 49,
   "metadata": {
    "id": "PgAhj30aiDUL"
   },
   "outputs": [],
   "source": [
    "## code\n",
    "\n",
    "import pandas as pd\n",
    "import numpy as np\n",
    "x = pd.read_csv('/content/drive/My Drive/ML3/fashion-mnist.csv')\n",
    "all_data= x.to_numpy()\n",
    "np.random.shuffle(all_data)\n",
    "length = len(all_data)\n",
    "\n",
    "\n",
    "X_test = all_data[0:int(0.5 * length),:-1]\n",
    "X_train = all_data[int(0.5 * length):,:-1]\n",
    "y_test = all_data[0:int(0.5 * length),-1]\n",
    "y_train = all_data[int(0.5 * length):,-1]\n",
    "\n",
    "\n",
    "\n"
   ]
  },
  {
   "cell_type": "markdown",
   "metadata": {
    "id": "K59qpd3RiDUN"
   },
   "source": [
    "## C5.1. SVM with linear kernel"
   ]
  },
  {
   "cell_type": "code",
   "execution_count": 43,
   "metadata": {
    "id": "PPG8BWNdiDUT",
    "colab": {
     "base_uri": "https://localhost:8080/"
    },
    "outputId": "5be19878-493d-4b32-9f91-61262632273c"
   },
   "outputs": [
    {
     "name": "stdout",
     "output_type": "stream",
     "text": [
      "Accuracy of svm with linear kernel on train data is :  1.0\n",
      "Accuracy of svm with linear kernal on test data is :  0.8064\n",
      "confusion matrix of svm with linear kernel is : \n",
      "[[378   2   8  30   1   0  67   0   4   0]\n",
      " [  4 505   3   9   1   0   1   0   1   0]\n",
      " [ 18   5 365   9  53   1  55   0   6   0]\n",
      " [ 37  14   8 435  14   0  13   0   1   0]\n",
      " [  5   4 103  23 325   0  51   0   1   0]\n",
      " [  0   0   0   0   1 395   0  32   3  14]\n",
      " [ 94   3  69  10  48   0 255   0  10   0]\n",
      " [  0   0   0   0   0  30   0 446   1  25]\n",
      " [  5   0  10   8   3   5   8   0 454   2]\n",
      " [  0   0   0   0   0  14   0  21   0 474]]\n"
     ]
    }
   ],
   "source": [
    "## code\n",
    "from sklearn.svm import SVC \n",
    "from sklearn.metrics import confusion_matrix \n",
    "svm_model_linear = SVC(kernel = 'linear', C = 1).fit(X_train, y_train) \n",
    "svm_predictions = svm_model_linear.predict(X_test) \n",
    "print(\"Accuracy of svm with linear kernel on train data is : \",svm_model_linear.score(X_train, y_train) )\n",
    "print(\"Accuracy of svm with linear kernal on test data is : \",svm_model_linear.score(X_test, y_test)  )\n",
    "print(\"confusion matrix of svm with linear kernel is : \")\n",
    "print(confusion_matrix(y_test, svm_predictions) )\n",
    "\n",
    "\n",
    "\n",
    "\n"
   ]
  },
  {
   "cell_type": "markdown",
   "metadata": {
    "id": "uVIlUJcriDUU"
   },
   "source": [
    "## C5.2. SVM with gaussian kernel"
   ]
  },
  {
   "cell_type": "code",
   "execution_count": 69,
   "metadata": {
    "id": "c8Jj1eOaiDUU",
    "colab": {
     "base_uri": "https://localhost:8080/"
    },
    "outputId": "8326048c-adf3-442b-94a3-772663b8dbad"
   },
   "outputs": [
    {
     "name": "stdout",
     "output_type": "stream",
     "text": [
      "********************************************\n",
      "based on the  test results, the best gamma is:  3.1890629245331815e-07  with test error =  0.8674\n",
      "confusion matrix of svm with gaussian kernel with gamma =  3.1890629245331815e-07  is : \n",
      "[[432   0   8  22   1   0  48   0   9   0]\n",
      " [  2 448   2  21   0   0   0   0   1   0]\n",
      " [  6   0 409   7  40   0  27   0  10   0]\n",
      " [ 27   0   2 478  20   0   6   0   1   0]\n",
      " [  1   0  50  11 403   0  42   0   0   0]\n",
      " [  0   0   0   0   0 432   0  13   4  13]\n",
      " [ 72   1  44  12  48   0 300   0   5   0]\n",
      " [  0   0   0   0   0   8   0 485   0  36]\n",
      " [  0   0   5   1   2   2   9   0 459   1]\n",
      " [  0   0   0   0   0   3   0  20   0 491]]\n"
     ]
    }
   ],
   "source": [
    "## code\n",
    "import math\n",
    "import random\n",
    "from sklearn.svm import SVC \n",
    "from sklearn.metrics import confusion_matrix \n",
    "\n",
    "#i commanded the initial part because it would take to much space in the output section\n",
    "# but the best gamma captured from that is 3.189062924533182e-07 \n",
    "#you can run the code to get sure\n",
    "#in the initial part we analyze the interval 10e0-9 to 1000\n",
    "# then by finding out thar 10e0-7 is the best answer, we take 10 samples from 10e0-7 to 10e-06 and find that 3.189062924533182e-07 gives the best accuracy\n",
    "# best_test_accuracy = 0\n",
    "# best_gamma = 0\n",
    "# gamma = 0.0000000001\n",
    "# for i in range(1,14):\n",
    "#   gamma = gamma * 10\n",
    "#   svm_model_gaussian = SVC(kernel = 'rbf', gamma = gamma).fit(X_train, y_train)\n",
    "#   svm_predictions = svm_model_gaussian.predict(X_test) \n",
    "#   test_accuracy = svm_model_gaussian.score(X_test, y_test)\n",
    "#   print(\"Accuracy of svm with gaussian kernel on train data with gamma = \",gamma,\" is : \",svm_model_gaussian.score(X_train, y_train) )\n",
    "#   print(\"Accuracy of svm with gaussian kernal on test data with gamma = \",gamma,\" is : \",  test_accuracy)\n",
    "#   print(\"confusion matrix of svm with gaussian kernel with gamma = \",gamma,\" is : \")\n",
    "#   print(confusion_matrix(y_test, svm_predictions) )\n",
    "#   print(\"-----------------------------------------------\")\n",
    "#   if test_accuracy > best_test_accuracy:\n",
    "#     best_test_accuracy = test_accuracy\n",
    "#     best_gamma = gamma\n",
    "# print(\"********************************************\")\n",
    "# print(\"based on the initial test results, the best gamma is: \",best_gamma,\" with test error = \",best_test_accuracy)\n",
    "# print(\"so we will sample between \",best_gamma,\" & \",best_gamma * 10)\n",
    "# candidates = [] \n",
    "# while len(candidates) < 10:\n",
    "#   candidate = random.uniform(best_gamma, best_gamma * 10)\n",
    "#   if candidate not in candidates:\n",
    "#     candidates.append(candidate)\n",
    "\n",
    "# best_test_accuracy = 0\n",
    "# best_gamma = 0\n",
    "# best_model = ''\n",
    "# for candidate in candidates:\n",
    "#   gamma = candidate\n",
    "#   svm_model_gaussian = SVC(kernel = 'rbf', gamma = gamma).fit(X_train, y_train)\n",
    "#   svm_predictions = svm_model_gaussian.predict(X_test) \n",
    "#   test_accuracy = svm_model_gaussian.score(X_test, y_test)\n",
    "#   print(\"Accuracy of svm with gaussian kernel on train data with gamma = \",gamma,\" is : \",svm_model_gaussian.score(X_train, y_train) )\n",
    "#   print(\"Accuracy of svm with gaussian kernal on test data with gamma = \",gamma,\" is : \",  test_accuracy)\n",
    "#   print(\"confusion matrix of svm with gaussian kernel with gamma = \",gamma,\" is : \")\n",
    "#   print(confusion_matrix(y_test, svm_predictions) )\n",
    "#   print(\"-----------------------------------------------\")\n",
    "#   if test_accuracy > best_test_accuracy:\n",
    "#     best_test_accuracy = test_accuracy\n",
    "#     best_gamma = gamma\n",
    "#     best_model = svm_model_gaussian\n",
    "\n",
    "best_gamma = 3.189062924533182 * (10 ** -7)\n",
    "svm_model_gaussian = SVC(kernel = 'rbf', gamma = best_gamma).fit(X_train, y_train)\n",
    "svm_predictions = svm_model_gaussian.predict(X_test) \n",
    "best_accuracy = svm_model_gaussian.score(X_test, y_test)\n",
    "\n",
    "print(\"********************************************\")\n",
    "print(\"based on the  test results, the best gamma is: \",best_gamma,\" with test error = \",best_test_accuracy)\n",
    "print(\"confusion matrix of svm with gaussian kernel with gamma = \",best_gamma,\" is : \")\n",
    "print(confusion_matrix(y_test, svm_predictions) )\n",
    "\n",
    "\n",
    "\n",
    "\n",
    "\n"
   ]
  },
  {
   "cell_type": "markdown",
   "metadata": {
    "id": "-BshmkTIiDUV"
   },
   "source": [
    "## C5.3. K-nearest neighbor"
   ]
  },
  {
   "cell_type": "code",
   "execution_count": 55,
   "metadata": {
    "id": "Bz5uvFSOiDUW",
    "colab": {
     "base_uri": "https://localhost:8080/"
    },
    "outputId": "0418d296-65d1-41e7-93d1-b52eee340252"
   },
   "outputs": [
    {
     "name": "stdout",
     "output_type": "stream",
     "text": [
      "Accuracy of knn  on train data with k =  1  is :  1.0\n",
      "Accuracy of knn  on test data with k =  1  is :  0.7948\n",
      "confusion matrix of knn with k =  1  is : \n",
      "[[401   0  12   9   3   0  89   0   6   0]\n",
      " [  4 455   1  10   1   0   2   0   1   0]\n",
      " [  9   0 321   8  77   0  82   0   2   0]\n",
      " [ 31   7   5 434  33   0  23   0   1   0]\n",
      " [  2   0  84  15 329   0  77   0   0   0]\n",
      " [  0   0   0   0   0 367   1  49   6  39]\n",
      " [ 87   1  60  12  49   0 269   0   4   0]\n",
      " [  0   0   0   0   0   2   0 469   0  58]\n",
      " [  2   0   8   4   9   2  11   1 441   1]\n",
      " [  0   0   0   0   0   2   0  24   0 488]]\n",
      "-----------------------------------------\n",
      "Accuracy of knn  on train data with k =  51  is :  0.7778\n",
      "Accuracy of knn  on test data with k =  51  is :  0.7788\n",
      "confusion matrix of knn with k =  51  is : \n",
      "[[422   0  19  34   4   0  36   0   5   0]\n",
      " [  7 436   5  19   2   0   4   0   1   0]\n",
      " [  6   0 337   5  71   0  77   0   3   0]\n",
      " [ 41   4   3 438  29   0  18   0   1   0]\n",
      " [  2   3  62  24 352   0  64   0   0   0]\n",
      " [  0   0   0   2   0 298  14  89   3  56]\n",
      " [ 93   1  62  11  61   0 251   0   3   0]\n",
      " [  0   0   0   0   0   2   0 471   0  56]\n",
      " [  1   0  21   5  14   0  14  16 406   2]\n",
      " [  1   0   0   1   0   3   4  22   0 483]]\n",
      "-----------------------------------------\n",
      "Accuracy of knn  on train data with k =  101  is :  0.7492\n",
      "Accuracy of knn  on test data with k =  101  is :  0.7528\n",
      "confusion matrix of knn with k =  101  is : \n",
      "[[393   0  22  47   5   0  49   0   4   0]\n",
      " [  5 436   5  19   2   0   6   0   1   0]\n",
      " [  6   0 320   6  81   0  82   0   4   0]\n",
      " [ 35   6   1 440  22   0  29   0   1   0]\n",
      " [  2   4  59  30 352   0  60   0   0   0]\n",
      " [  0   0   0   1   0 262  20 116   2  61]\n",
      " [ 93   1  70  13  73   0 230   0   2   0]\n",
      " [  0   0   0   0   0   2   0 473   0  54]\n",
      " [  1   0  25   6  16   2  21  20 385   3]\n",
      " [  1   0   0   1   0   3   4  32   0 473]]\n",
      "-----------------------------------------\n",
      "Accuracy of knn  on train data with k =  151  is :  0.732\n",
      "Accuracy of knn  on test data with k =  151  is :  0.7374\n",
      "confusion matrix of knn with k =  151  is : \n",
      "[[385   0  19  53   5   0  54   0   4   0]\n",
      " [  5 429   6  23   2   0   8   0   1   0]\n",
      " [  6   0 311   4  94   0  80   0   4   0]\n",
      " [ 37   6   3 438  17   0  32   0   1   0]\n",
      " [  2   5  62  38 342   0  58   0   0   0]\n",
      " [  1   0   0   1   0 251  24 125   2  58]\n",
      " [ 92   0  70  14  83   0 221   0   2   0]\n",
      " [  0   0   0   0   0   6   0 469   0  54]\n",
      " [  1   0  26  10  20   2  25  26 366   3]\n",
      " [  1   0   0   1   0   3   4  30   0 475]]\n",
      "-----------------------------------------\n",
      "best k in initial search was k =  1\n",
      "so we will search the interval between  1  &  11\n",
      "----------------------output--------------------------\n",
      "best model is with k =  4  test accuracy =  0.8142\n",
      "confusion matrix of knn with k =  4  is : \n",
      "[[431   0  14  12   0   0  55   0   8   0]\n",
      " [  3 452   3  14   0   0   1   0   1   0]\n",
      " [  8   0 376   5  51   0  57   0   2   0]\n",
      " [ 40   7   6 449  21   0  11   0   0   0]\n",
      " [  4   0  96  29 322   0  56   0   0   0]\n",
      " [  2   0   1   0   0 368   0  45   5  41]\n",
      " [ 86   1  73  11  47   0 260   0   4   0]\n",
      " [  0   0   0   0   0   0   0 488   0  41]\n",
      " [  3   0  10   6   8   0   8   5 437   2]\n",
      " [  0   0   0   0   0   2   0  24   0 488]]\n"
     ]
    }
   ],
   "source": [
    "## code\n",
    "from sklearn.neighbors import KNeighborsClassifier\n",
    "import math\n",
    "best_accuracy = 0\n",
    "best_k = 1\n",
    "#initial_search\n",
    "for k in range(1,201,50): # wee choose intervals between 1 and 2 * square(number of samples) to find the best answer\n",
    "  neigh = KNeighborsClassifier(n_neighbors=k)\n",
    "  neigh.fit(X_train, y_train)\n",
    "  test_accuracy = neigh.score(X_test, y_test)\n",
    "  knn_predictions = neigh.predict(X_test)\n",
    "  print(\"Accuracy of knn  on train data with k = \",k,\" is : \",neigh.score(X_train, y_train) )\n",
    "  print(\"Accuracy of knn  on test data with k = \",k,\" is : \",  test_accuracy)\n",
    "  print(\"confusion matrix of knn with k = \",k,\" is : \",)\n",
    "  print(confusion_matrix(y_test, knn_predictions) )\n",
    "  print(\"-----------------------------------------\")\n",
    "  if test_accuracy > best_error:\n",
    "    best_k = k\n",
    "    best_accuracy = test_accuracy\n",
    "\n",
    "print(\"best k in initial search was k = \",best_k)\n",
    "print(\"so we will search the interval between \",best_k,\" & \",best_k+10)\n",
    "final_accuracy = 0\n",
    "final_k = best_k\n",
    "#final_search\n",
    "final_model = ''\n",
    "for k in range(best_k,best_k+10,1):\n",
    "  neigh = KNeighborsClassifier(n_neighbors=k)\n",
    "  neigh.fit(X_train, y_train)\n",
    "  test_accuracy = neigh.score(X_test, y_test)\n",
    "  if test_accuracy > final_accuracy:\n",
    "    final_k = k\n",
    "    final_accuracy = test_accuracy\n",
    "    final_model = neigh\n",
    "\n",
    "print(\"----------------------output--------------------------\")\n",
    "print(\"best model is with k = \",final_k,\" test accuracy = \",final_accuracy)\n",
    "print(\"confusion matrix of knn with k = \",final_k,\" is : \",)\n",
    "print(confusion_matrix(y_test, final_model.predict(X_test)) )\n",
    "\n",
    "\n",
    "\n",
    "\n",
    "\n",
    "\n",
    "\n",
    "\n"
   ]
  },
  {
   "cell_type": "markdown",
   "metadata": {
    "id": "s9togbs0iDUW"
   },
   "source": [
    "## C5.4. Decision trees"
   ]
  },
  {
   "cell_type": "code",
   "execution_count": 57,
   "metadata": {
    "id": "Y2ZR0XFgiDUX",
    "colab": {
     "base_uri": "https://localhost:8080/"
    },
    "outputId": "4ef473e3-3e9f-4595-dac8-e0c4b933cfb7"
   },
   "outputs": [
    {
     "name": "stdout",
     "output_type": "stream",
     "text": [
      "Accuracy of decision tree  on train data is :  1.0\n",
      "Accuracy of decision tree  on test data is :  0.7336\n",
      "confusion matrix of desicion tree is : \n",
      "[[356   5  19  30   7   3  88   0  11   1]\n",
      " [  6 429   3  24   2   1   7   2   0   0]\n",
      " [ 12   1 286  18  88   0  83   0  11   0]\n",
      " [ 41  18   6 404  26   4  27   0   7   1]\n",
      " [  3   3  87  28 312   0  62   1  11   0]\n",
      " [  1   3   1   1   1 380   2  41  16  16]\n",
      " [ 76   2  64  23  72   2 230   0  13   0]\n",
      " [  0   0   0   0   0  37   0 428   3  61]\n",
      " [  8   4   9   3  15  12  10   8 403   7]\n",
      " [  0   0   0   1   3  17   1  44   8 440]]\n"
     ]
    }
   ],
   "source": [
    "## code\n",
    "from sklearn.tree import DecisionTreeClassifier \n",
    "dtree_model = DecisionTreeClassifier().fit(X_train, y_train) \n",
    "dtree_predictions = dtree_model.predict(X_test) \n",
    "print(\"Accuracy of decision tree  on train data is : \",dtree_model.score(X_train, y_train) )\n",
    "print(\"Accuracy of decision tree  on test data is : \",  dtree_model.score(X_test, y_test))\n",
    "print(\"confusion matrix of desicion tree is : \")\n",
    "print(confusion_matrix(y_test, dtree_predictions) )\n",
    "\n",
    "\n",
    "\n"
   ]
  },
  {
   "cell_type": "markdown",
   "metadata": {
    "id": "trBdmzMo-ibr"
   },
   "source": [
    "we witness that the decision tree provides a somewhat mediocre result compared to other sections."
   ]
  },
  {
   "cell_type": "markdown",
   "metadata": {
    "id": "YJgjxhoDiDUX"
   },
   "source": [
    "## C5.5. Neural network"
   ]
  },
  {
   "cell_type": "code",
   "execution_count": 66,
   "metadata": {
    "id": "KCkk9grDiDUY",
    "colab": {
     "base_uri": "https://localhost:8080/",
     "height": 1000.0
    },
    "outputId": "c9f74159-1367-4822-da46-a650e9efe979"
   },
   "outputs": [
    {
     "name": "stdout",
     "output_type": "stream",
     "text": [
      "157/157 [==============================] - 0s 2ms/step - loss: 2.3010 - accuracy: 0.1068\n",
      "157/157 [==============================] - 0s 3ms/step - loss: 2.3048 - accuracy: 0.0958\n",
      "accuaracy of neural network on train data with activation function  relu  is :  0.10679999738931656\n",
      "accuaracy of neural network on test data with activation function  relu  is :  0.0957999974489212\n",
      "confusion matrix of neural network with activation function  relu  is :\n",
      "[[  0   0   0   0   0   0   0   0 520   0]\n",
      " [  0   0   0   0   0   0   0   0 474   0]\n",
      " [  0   0   0   0   0   0   0   0 499   0]\n",
      " [  0   0   0   0   0   0   0   0 534   0]\n",
      " [  0   0   0   0   0   0   0   0 507   0]\n",
      " [  0   0   0   0   0   0   0   0 462   0]\n",
      " [  0   0   0   0   0   0   0   0 482   0]\n",
      " [  0   0   0   0   0   0   0   0 529   0]\n",
      " [  0   0   0   0   0   0   0   0 479   0]\n",
      " [  0   0   0   0   0   0   0   0 514   0]]\n",
      "--------------------------------------------------\n",
      "157/157 [==============================] - 0s 2ms/step - loss: 0.6619 - accuracy: 0.7780\n",
      "157/157 [==============================] - 0s 2ms/step - loss: 0.6948 - accuracy: 0.7670\n",
      "accuaracy of neural network on train data with activation function  sigmoid  is :  0.777999997138977\n",
      "accuaracy of neural network on test data with activation function  sigmoid  is :  0.7670000195503235\n",
      "confusion matrix of neural network with activation function  sigmoid  is :\n",
      "[[411   2   5  54   2   0  37   0   9   0]\n",
      " [  7 442   7  16   1   0   0   0   1   0]\n",
      " [  7   1 252   4 141   1  81   0  12   0]\n",
      " [ 54   6   0 442   4   0  24   0   4   0]\n",
      " [ 14  11  48  32 334   0  66   0   2   0]\n",
      " [  0   0   0   0   0 347   0  57   9  49]\n",
      " [106   1  44  22  76   0 215   0  18   0]\n",
      " [  0   0   0   0   0   1   0 498   2  28]\n",
      " [  0   0   1   6   4   1  15   3 449   0]\n",
      " [  0   0   0   0   0   0   0  69   0 445]]\n",
      "--------------------------------------------------\n",
      "157/157 [==============================] - 0s 3ms/step - loss: 2.3010 - accuracy: 0.1068\n",
      "157/157 [==============================] - 0s 3ms/step - loss: 2.3048 - accuracy: 0.0958\n",
      "accuaracy of neural network on train data with activation function  softmax  is :  0.10679999738931656\n",
      "accuaracy of neural network on test data with activation function  softmax  is :  0.0957999974489212\n",
      "confusion matrix of neural network with activation function  softmax  is :\n",
      "[[  0   0   0   0   0   0   0   0 520   0]\n",
      " [  0   0   0   0   0   0   0   0 474   0]\n",
      " [  0   0   0   0   0   0   0   0 499   0]\n",
      " [  0   0   0   0   0   0   0   0 534   0]\n",
      " [  0   0   0   0   0   0   0   0 507   0]\n",
      " [  0   0   0   0   0   0   0   0 462   0]\n",
      " [  0   0   0   0   0   0   0   0 482   0]\n",
      " [  0   0   0   0   0   0   0   0 529   0]\n",
      " [  0   0   0   0   0   0   0   0 479   0]\n",
      " [  0   0   0   0   0   0   0   0 514   0]]\n",
      "--------------------------------------------------\n",
      "157/157 [==============================] - 0s 2ms/step - loss: 1.4038 - accuracy: 0.3990\n",
      "157/157 [==============================] - 0s 3ms/step - loss: 1.4295 - accuracy: 0.3784\n",
      "accuaracy of neural network on train data with activation function  tanh  is :  0.39899998903274536\n",
      "accuaracy of neural network on test data with activation function  tanh  is :  0.3783999979496002\n",
      "confusion matrix of neural network with activation function  tanh  is :\n",
      "[[ 11  57 445   0   0   0   0   0   7   0]\n",
      " [  1 445  27   0   0   0   0   0   1   0]\n",
      " [  0   2 487   0   0   0   0   0  10   0]\n",
      " [  0 386 147   1   0   0   0   0   0   0]\n",
      " [  1  19 480   0   0   0   0   0   7   0]\n",
      " [  0   0   1   0   0 104   0 200 147  10]\n",
      " [  0  15 448   0   0   0   0   1  18   0]\n",
      " [  0   0   0   0   0   0   0 500  29   0]\n",
      " [  0   2  46   0   0   1   0  88 342   0]\n",
      " [  0   0   1   0   0   0   0  85 426   2]]\n",
      "--------------------------------------------------\n",
      "157/157 [==============================] - 0s 3ms/step - loss: nan - accuracy: 0.0928\n",
      "157/157 [==============================] - 0s 3ms/step - loss: nan - accuracy: 0.1040\n",
      "accuaracy of neural network on train data with activation function  exponential  is :  0.09279999881982803\n",
      "accuaracy of neural network on test data with activation function  exponential  is :  0.10400000214576721\n",
      "confusion matrix of neural network with activation function  exponential  is :\n",
      "[[520   0   0   0   0   0   0   0   0   0]\n",
      " [474   0   0   0   0   0   0   0   0   0]\n",
      " [499   0   0   0   0   0   0   0   0   0]\n",
      " [534   0   0   0   0   0   0   0   0   0]\n",
      " [507   0   0   0   0   0   0   0   0   0]\n",
      " [462   0   0   0   0   0   0   0   0   0]\n",
      " [482   0   0   0   0   0   0   0   0   0]\n",
      " [529   0   0   0   0   0   0   0   0   0]\n",
      " [479   0   0   0   0   0   0   0   0   0]\n",
      " [514   0   0   0   0   0   0   0   0   0]]\n",
      "--------------------------------------------------\n",
      "based on the results, the best activation function is  sigmoid  with  0.7670000195503235  test accuracy\n",
      "confusion matrix of neural network with activation function  sigmoid  is :\n",
      "[[411   2   5  54   2   0  37   0   9   0]\n",
      " [  7 442   7  16   1   0   0   0   1   0]\n",
      " [  7   1 252   4 141   1  81   0  12   0]\n",
      " [ 54   6   0 442   4   0  24   0   4   0]\n",
      " [ 14  11  48  32 334   0  66   0   2   0]\n",
      " [  0   0   0   0   0 347   0  57   9  49]\n",
      " [106   1  44  22  76   0 215   0  18   0]\n",
      " [  0   0   0   0   0   1   0 498   2  28]\n",
      " [  0   0   1   6   4   1  15   3 449   0]\n",
      " [  0   0   0   0   0   0   0  69   0 445]]\n"
     ]
    },
    {
     "data": {
      "image/png": "[encoded data removed]",
      "text/plain": [
       "<Figure size 432x288 with 1 Axes>"
      ]
     },
     "metadata": {
      "tags": [],
      "needs_background": "light"
     },
     "output_type": "display_data"
    },
    {
     "data": {
      "image/png": "[encoded data removed]",
      "text/plain": [
       "<Figure size 432x288 with 1 Axes>"
      ]
     },
     "metadata": {
      "tags": [],
      "needs_background": "light"
     },
     "output_type": "display_data"
    }
   ],
   "source": [
    "## code\n",
    "from tensorflow.keras import Sequential\n",
    "from tensorflow.keras.layers import Dense\n",
    "from keras.utils import to_categorical\n",
    "import matplotlib.pyplot as plt\n",
    "import numpy as np\n",
    "def create_neural_network_model(n,t,i,X_train,y_train,X_test,y_test,act = 'relu'):\n",
    "  model = Sequential()\n",
    "  model.add(Dense(n, input_shape=(784,),activation = act))\n",
    "  for j in range(t-1):\n",
    "      model.add(Dense(n,activation=act))\n",
    "  model.add(Dense(10,activation='softmax'))\n",
    "  model.compile(optimizer='sgd', loss='categorical_crossentropy',metrics=['accuracy'])\n",
    "  history = model.fit(X_train, to_categorical(y_train), epochs= i,verbose=0,validation_data = (X_test,to_categorical(y_test)))\n",
    "  # print(model.predict([X[100]]))\n",
    "  # print(y[10])\n",
    "  # print(y[100])\n",
    "  return model,history\n",
    "\n",
    "models = {}\n",
    "histories = {}\n",
    "acts = ['relu', 'sigmoid', 'softmax', 'tanh', 'exponential']\n",
    "for act in acts:\n",
    "  model,history = create_neural_network_model(n = 100,t = 3,i = 100,X_train = X_train,y_train = y_train,X_test = X_test,y_test = y_test,act = act)\n",
    "  models[act] = model\n",
    "  histories[act] = history\n",
    "\n",
    "\n",
    "best_accuracy = 0\n",
    "best_act = ''\n",
    "for act in acts:\n",
    "  loss1,accuracy_train = models[act].evaluate(X_train, to_categorical(y_train))\n",
    "  loss,accuracy = models[act].evaluate(X_test, to_categorical(y_test))\n",
    "  print(\"accuaracy of neural network on train data with activation function \",act,\" is : \",accuracy_train )\n",
    "  print(\"accuaracy of neural network on test data with activation function \",act,\" is : \",accuracy )\n",
    "  print(\"confusion matrix of neural network with activation function \",act,\" is :\")\n",
    "  predictions = np.argmax(models[act].predict(X_test), axis = 1)\n",
    "  print(confusion_matrix(y_test, predictions) )\n",
    "  print(\"--------------------------------------------------\")\n",
    "\n",
    "  if accuracy > best_accuracy:\n",
    "    best_accuracy = accuracy\n",
    "    best_act = act\n",
    "  \n",
    "print(\"based on the results, the best activation function is \",best_act,\" with \",best_accuracy,\" test accuracy\")\n",
    "print(\"confusion matrix of neural network with activation function \",best_act,\" is :\")\n",
    "predictions = np.argmax(models[best_act].predict(X_test), axis = 1)\n",
    "print(confusion_matrix(y_test, predictions) )\n",
    "\n",
    "\n",
    "\n",
    "#plotting cost vs time\n",
    "plt.title('Cost vs Time for' + best_act + ' with train data ')\n",
    "plt.plot(histories[best_act].history['loss'])\n",
    "plt.show()\n",
    "plt.title('Cost vs Time for' + best_act + ' with test data ')\n",
    "plt.plot(histories[best_act].history['val_loss'] )\n",
    "plt.show()\n",
    "\n",
    "\n",
    "  \n",
    "\n",
    "\n",
    "\n",
    "\n"
   ]
  },
  {
   "cell_type": "markdown",
   "metadata": {
    "id": "_Qr2tI2TiDUY"
   },
   "source": [
    "# C6. K-means"
   ]
  },
  {
   "cell_type": "markdown",
   "metadata": {
    "id": "8JaF6EEEiDUZ"
   },
   "source": [
    "## Load data"
   ]
  },
  {
   "cell_type": "code",
   "execution_count": 14,
   "metadata": {
    "id": "TsDL7uR8iDUa",
    "colab": {
     "base_uri": "https://localhost:8080/"
    },
    "outputId": "96cb2cd0-7265-44a2-df76-6029d5585519"
   },
   "outputs": [
    {
     "name": "stdout",
     "output_type": "stream",
     "text": [
      "2\n"
     ]
    }
   ],
   "source": [
    "import pandas as pd\n",
    "import numpy as np\n",
    "x = pd.read_csv('/content/drive/My Drive/ML3/iris.csv')\n",
    "label_to_numbers = {'Setosa':0,'Virginica':2,'Versicolor':1}\n",
    "real_labels = np.array([label_to_numbers[label] for label in x['variety'].to_numpy()])\n",
    "x.pop('variety')\n",
    "vectors = x.to_numpy()\n",
    "features = x.columns\n",
    "\n",
    "\n",
    "\n",
    "\n",
    "\n"
   ]
  },
  {
   "cell_type": "markdown",
   "metadata": {
    "id": "PJgKOzSgiDUa"
   },
   "source": [
    "## C6.1. Algorithm"
   ]
  },
  {
   "cell_type": "code",
   "execution_count": 15,
   "metadata": {
    "id": "eFvEJwAFiDUb"
   },
   "outputs": [],
   "source": [
    "import math\n",
    "def k_means(matrix, k, max_iterations=100):\n",
    "  # matrix = np.array(matrix)\n",
    "  centroid_indexes = []\n",
    "  #initial centroids\n",
    "  while len(centroid_indexes) < k:\n",
    "    centroid = np.random.randint(0,len(matrix))\n",
    "    if centroid not in centroid_indexes:\n",
    "        centroid_indexes.append(centroid)\n",
    "  centroids = []\n",
    "  for index in centroid_indexes:\n",
    "      centroids.append(matrix[index])\n",
    "  labels = np.zeros([len(matrix)])\n",
    "  labels_changed = True\n",
    "  iteration = 0\n",
    "  while labels_changed and iteration < max_iterations:\n",
    "    labels_changed = False\n",
    "    iteration += 1\n",
    "    cluster_members = [set() for dummy in range(k)]\n",
    "    for i,vector in enumerate(matrix):\n",
    "      min_distance = math.inf\n",
    "      min_index = 0\n",
    "      for c,centroid in enumerate(centroids):\n",
    "        temp_distance = np.linalg.norm(vector-centroid)\n",
    "        if temp_distance < min_distance:\n",
    "          min_distance = temp_distance\n",
    "          min_index = c\n",
    "      if min_index != labels[i]:\n",
    "        labels_changed = True\n",
    "        labels[i] = min_index\n",
    "      cluster_members[min_index].add(i)\n",
    "    if labels_changed:\n",
    "      for c in range(k):\n",
    "        new_centroid = np.zeros([len(matrix[0])],dtype=float)\n",
    "        for vector_index in cluster_members[c]:\n",
    "          new_centroid += matrix[vector_index]\n",
    "        new_centroid = new_centroid/len(cluster_members[c])\n",
    "        centroids[c] = new_centroid\n",
    "  clusters = labels\n",
    "  return clusters"
   ]
  },
  {
   "cell_type": "markdown",
   "metadata": {
    "id": "v9hilklmiDUc"
   },
   "source": [
    "## C6.2. Plot clusters in 2d"
   ]
  },
  {
   "cell_type": "code",
   "execution_count": 27,
   "metadata": {
    "id": "1tz_3wY6iDUc",
    "colab": {
     "base_uri": "https://localhost:8080/",
     "height": 1000.0
    },
    "outputId": "d3278c1f-fa8c-4e12-a563-0677e0e1f853"
   },
   "outputs": [
    {
     "name": "stdout",
     "output_type": "stream",
     "text": [
      "kmeans clustering done!\n"
     ]
    },
    {
     "data": {
      "image/png": "[encoded data removed]",
      "text/plain": [
       "<Figure size 432x288 with 1 Axes>"
      ]
     },
     "metadata": {
      "tags": [],
      "needs_background": "light"
     },
     "output_type": "display_data"
    },
    {
     "name": "stdout",
     "output_type": "stream",
     "text": [
      "***************************************\n"
     ]
    },
    {
     "data": {
      "image/png": "[encoded data removed]",
      "text/plain": [
       "<Figure size 432x288 with 1 Axes>"
      ]
     },
     "metadata": {
      "tags": [],
      "needs_background": "light"
     },
     "output_type": "display_data"
    },
    {
     "name": "stdout",
     "output_type": "stream",
     "text": [
      "***************************************\n"
     ]
    },
    {
     "data": {
      "image/png": "[encoded data removed]",
      "text/plain": [
       "<Figure size 432x288 with 1 Axes>"
      ]
     },
     "metadata": {
      "tags": [],
      "needs_background": "light"
     },
     "output_type": "display_data"
    },
    {
     "name": "stdout",
     "output_type": "stream",
     "text": [
      "***************************************\n"
     ]
    },
    {
     "data": {
      "image/png": "[encoded data removed]",
      "text/plain": [
       "<Figure size 432x288 with 1 Axes>"
      ]
     },
     "metadata": {
      "tags": [],
      "needs_background": "light"
     },
     "output_type": "display_data"
    },
    {
     "name": "stdout",
     "output_type": "stream",
     "text": [
      "***************************************\n"
     ]
    },
    {
     "data": {
      "image/png": "[encoded data removed]",
      "text/plain": [
       "<Figure size 432x288 with 1 Axes>"
      ]
     },
     "metadata": {
      "tags": [],
      "needs_background": "light"
     },
     "output_type": "display_data"
    },
    {
     "name": "stdout",
     "output_type": "stream",
     "text": [
      "***************************************\n"
     ]
    },
    {
     "data": {
      "image/png": "[encoded data removed]",
      "text/plain": [
       "<Figure size 432x288 with 1 Axes>"
      ]
     },
     "metadata": {
      "tags": [],
      "needs_background": "light"
     },
     "output_type": "display_data"
    },
    {
     "name": "stdout",
     "output_type": "stream",
     "text": [
      "***************************************\n"
     ]
    }
   ],
   "source": [
    "import matplotlib.pyplot as plt\r\n",
    "clusters = k_means(vectors,3)\r\n",
    "print('kmeans clustering done!')\r\n",
    "\r\n",
    "cdict = {0:'purple',1:'red',2:'green'}\r\n",
    "for i in range(4):\r\n",
    "  for j in range(i+1,4):\r\n",
    "    fig, ax = plt.subplots()\r\n",
    "    for label in range(3):\r\n",
    "      ix = np.where(clusters == label)\r\n",
    "      ax.scatter(vectors[ix,i], vectors[ix,j], c = cdict[label], label = label)\r\n",
    "    ax.set_ylabel(features[j])\r\n",
    "    ax.set_xlabel(features[i])\r\n",
    "    ax.legend()\r\n",
    "    plt.show()\r\n",
    "    print(\"***************************************\")\r\n",
    "  \r\n"
   ]
  },
  {
   "cell_type": "markdown",
   "metadata": {
    "id": "xxHLgSwCiDUd"
   },
   "source": [
    "## C6.3. Redundant feature"
   ]
  },
  {
   "cell_type": "code",
   "execution_count": 28,
   "metadata": {
    "id": "14rNtPEhiDUd",
    "colab": {
     "base_uri": "https://localhost:8080/"
    },
    "outputId": "b7dbb5d2-fd10-4eef-89ca-bd06a7ef80ff"
   },
   "outputs": [
    {
     "name": "stdout",
     "output_type": "stream",
     "text": [
      "Adjusted Rand index when all 4 features are used 0.7163421126838475\n",
      "Adjusted Rand index when  sepal.length  is missing is:  0.44114724987656645\n",
      "Adjusted Rand index when  sepal.width  is missing is:  0.7576057289555466\n",
      "Adjusted Rand index when  petal.length  is missing is:  0.6103971645085184\n",
      "Adjusted Rand index when  petal.width  is missing is:  0.7028455614106202\n"
     ]
    }
   ],
   "source": [
    "from sklearn.metrics.cluster import adjusted_rand_score\r\n",
    "import numpy as np\r\n",
    "ARI = adjusted_rand_score(clusters,real_labels)\r\n",
    "print(\"Adjusted Rand index when all 4 features are used\" ,ARI)\r\n",
    "for i in range(4):\r\n",
    "  indexes = [j for j in range(4) if j != i]\r\n",
    "  new_vectors = []\r\n",
    "  for vector in vectors:\r\n",
    "    new_vectors.append(vector[indexes])\r\n",
    "  new_vectors = np.array(new_vectors)\r\n",
    "  new_clusters = k_means(new_vectors,3)\r\n",
    "  ARI = adjusted_rand_score(new_clusters,real_labels)\r\n",
    "  print(\"Adjusted Rand index when \",features[i],\" is missing is: \" ,ARI)\r\n"
   ]
  },
  {
   "cell_type": "markdown",
   "metadata": {
    "id": "alUYELrxyjsP"
   },
   "source": [
    "As it can be withnessed we have the best accuracy when the feature \"sepal.width\" is missing.\r\n",
    "but on the other hand, our original accuracy changes the least when petal.width is missing."
   ]
  }
 ],
 "metadata": {
  "kernelspec": {
   "display_name": "Python 3",
   "language": "python",
   "name": "python3"
  },
  "language_info": {
   "codemirror_mode": {
    "name": "ipython",
    "version": 3
   },
   "file_extension": ".py",
   "mimetype": "text/x-python",
   "name": "python",
   "nbconvert_exporter": "python",
   "pygments_lexer": "ipython3",
   "version": "3.6.4"
  },
  "colab": {
   "name": "HW6-checkpoint.ipynb",
   "provenance": []
  },
  "accelerator": "GPU"
 },
 "nbformat": 4,
 "nbformat_minor": 0
}
